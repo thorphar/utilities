{
 "cells": [
  {
   "cell_type": "code",
   "execution_count": 9,
   "metadata": {},
   "outputs": [],
   "source": [
    "import pysftp\n",
    "\n",
    "srv = pysftp.Connection(host=\"192.168.1.113\", username=\"bacton1\",\n",
    "password=\"admin123\")\n",
    "\n",
    "with srv.cd('test'): #chdir to public\n",
    "    srv.put('/home/thorphar/Pictures/test.png') #upload file to nodejs/\n",
    "\n",
    "# Closes the connection\n",
    "srv.close()"
   ]
  },
  {
   "cell_type": "code",
   "execution_count": null,
   "metadata": {},
   "outputs": [],
   "source": []
  }
 ],
 "metadata": {
  "kernelspec": {
   "display_name": "Python 3",
   "language": "python",
   "name": "python3"
  },
  "language_info": {
   "codemirror_mode": {
    "name": "ipython",
    "version": 3
   },
   "file_extension": ".py",
   "mimetype": "text/x-python",
   "name": "python",
   "nbconvert_exporter": "python",
   "pygments_lexer": "ipython3",
   "version": "3.7.5"
  }
 },
 "nbformat": 4,
 "nbformat_minor": 2
}
