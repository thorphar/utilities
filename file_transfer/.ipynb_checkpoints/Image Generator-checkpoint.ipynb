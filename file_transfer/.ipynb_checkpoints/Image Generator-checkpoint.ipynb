{
 "cells": [
  {
   "cell_type": "code",
   "execution_count": 5,
   "metadata": {},
   "outputs": [],
   "source": [
    "import cv2\n",
    "import numpy as np\n",
    "width=100\n",
    "height=100\n",
    "font_scale = 2\n",
    "font_thickness = 2\n",
    "img_range = 10\n",
    "img_start = 1\n",
    "img_step = 1\n",
    "\n",
    "for i in range(img_start,img_range+1,img_step):\n",
    "    img = np.zeros((width,height),np.uint8)\n",
    "    number = i\n",
    "    (label_width, label_height), baseline = cv2.getTextSize(str(number),cv2.LINE_AA,font_scale,2)\n",
    "    #print(label_width)print(label_height)print(baseline)\n",
    "    cv2.putText(\n",
    "        img, \n",
    "        str(number), \n",
    "        (int((width/2)-(label_width/2)), int((height/2)+(label_height/2))), \n",
    "        cv2.LINE_AA, font_scale, 255, font_thickness)\n",
    "    filename = \"test/img_\"+str(i)+\".png\"\n",
    "    cv2.imwrite(filename,img)\n",
    "    \n",
    "#cv2.imshow('image',img)\n",
    "#cv2.waitKey(0)\n",
    "#cv2.destroyAllWindows()"
   ]
  },
  {
   "cell_type": "code",
   "execution_count": null,
   "metadata": {},
   "outputs": [],
   "source": []
  }
 ],
 "metadata": {
  "kernelspec": {
   "display_name": "Python 3",
   "language": "python",
   "name": "python3"
  },
  "language_info": {
   "codemirror_mode": {
    "name": "ipython",
    "version": 3
   },
   "file_extension": ".py",
   "mimetype": "text/x-python",
   "name": "python",
   "nbconvert_exporter": "python",
   "pygments_lexer": "ipython3",
   "version": "3.7.5"
  }
 },
 "nbformat": 4,
 "nbformat_minor": 2
}
