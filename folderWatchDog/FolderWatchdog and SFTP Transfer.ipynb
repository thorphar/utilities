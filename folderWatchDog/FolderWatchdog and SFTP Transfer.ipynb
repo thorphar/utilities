{
 "cells": [
  {
   "cell_type": "code",
   "execution_count": null,
   "metadata": {},
   "outputs": [],
   "source": [
    "import time\n",
    "from watchdog.observers import Observer\n",
    "from watchdog.events import PatternMatchingEventHandler\n",
    "import pysftp\n",
    "import os"
   ]
  },
  {
   "cell_type": "code",
   "execution_count": null,
   "metadata": {},
   "outputs": [],
   "source": [
    "if __name__ == \"__main__\":\n",
    "    patterns = \"*\"\n",
    "    ignore_patterns = \"\"\n",
    "    ignore_directories = False\n",
    "    case_sensitive = True\n",
    "    my_event_handler = PatternMatchingEventHandler(patterns, ignore_patterns, ignore_directories, case_sensitive)"
   ]
  },
  {
   "cell_type": "code",
   "execution_count": null,
   "metadata": {},
   "outputs": [],
   "source": [
    "def on_created(event):\n",
    "    print(f\"hey, {event.src_path} has been created!\")\n",
    "\n",
    "def on_deleted(event):\n",
    "    print(f\"what the f**k! Someone deleted {event.src_path}!\")\n",
    "\n",
    "def on_modified(event):\n",
    "    event_file = event.src_path\n",
    "    if event_file.endswith('.png'):\n",
    "        event_file = os.path.abspath(event_file)\n",
    "        srv = pysftp.Connection(host=\"192.168.1.113\", username=\"bacton1\",password=\"admin123\")\n",
    "        with srv.cd('test'): #chdir to public\n",
    "            srv.put(event_file) #upload file to nodejs/\n",
    "\n",
    "        # Closes the connection\n",
    "        srv.close()\n",
    "\n",
    "        print(event_file)\n",
    "    print(f\"hey buddy, {event.src_path} has been modified\")\n",
    "\n",
    "def on_moved(event):\n",
    "    print(f\"ok ok ok, someone moved {event.src_path} to {event.dest_path}\")"
   ]
  },
  {
   "cell_type": "code",
   "execution_count": null,
   "metadata": {},
   "outputs": [],
   "source": [
    "my_event_handler.on_created = on_created\n",
    "my_event_handler.on_deleted = on_deleted\n",
    "my_event_handler.on_modified = on_modified\n",
    "my_event_handler.on_moved = on_moved"
   ]
  },
  {
   "cell_type": "code",
   "execution_count": null,
   "metadata": {},
   "outputs": [],
   "source": [
    "path = \".\"\n",
    "go_recursively = True\n",
    "my_observer = Observer()\n",
    "my_observer.schedule(my_event_handler, path, recursive=go_recursively)"
   ]
  },
  {
   "cell_type": "code",
   "execution_count": null,
   "metadata": {},
   "outputs": [],
   "source": [
    "my_observer.start()\n",
    "try:\n",
    "    while True:\n",
    "        time.sleep(1)\n",
    "except KeyboardInterrupt:\n",
    "    my_observer.stop()\n",
    "    my_observer.join()"
   ]
  },
  {
   "cell_type": "code",
   "execution_count": null,
   "metadata": {},
   "outputs": [],
   "source": []
  }
 ],
 "metadata": {
  "kernelspec": {
   "display_name": "Python 3",
   "language": "python",
   "name": "python3"
  },
  "language_info": {
   "codemirror_mode": {
    "name": "ipython",
    "version": 3
   },
   "file_extension": ".py",
   "mimetype": "text/x-python",
   "name": "python",
   "nbconvert_exporter": "python",
   "pygments_lexer": "ipython3",
   "version": "3.7.5"
  }
 },
 "nbformat": 4,
 "nbformat_minor": 2
}
